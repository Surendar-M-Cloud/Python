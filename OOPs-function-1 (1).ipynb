{
 "cells": [
  {
   "cell_type": "code",
   "execution_count": 14,
   "id": "44c67dda-f44a-49ab-9d41-871e6fcc8e7a",
   "metadata": {},
   "outputs": [],
   "source": [
    "def subfield(list):\n",
    "    print(\"Sub-Fields in AI are:\")\n",
    "    for i in list:\n",
    "        print(i)"
   ]
  },
  {
   "cell_type": "code",
   "execution_count": 18,
   "id": "dff7e6a8-6f51-4d0c-8300-f91359732308",
   "metadata": {},
   "outputs": [
    {
     "name": "stdout",
     "output_type": "stream",
     "text": [
      "Sub-Fields in AI are:\n",
      "Machine Learning\n",
      "Neural Network\n",
      "vision\n",
      "Robotics\n",
      "Speech Processing\n",
      "Natural language Processing\n"
     ]
    }
   ],
   "source": [
    "lists=[\"Machine Learning\",\"Neural Network\",\"vision\",\"Robotics\",\"Speech Processing\",\"Natural language Processing\"]\n",
    "subfield(lists)"
   ]
  },
  {
   "cell_type": "code",
   "execution_count": 1,
   "id": "19e80da2-688e-45ec-910b-4da589f9d2f2",
   "metadata": {},
   "outputs": [],
   "source": [
    "def OddEven(num):\n",
    "    if(num%2==0):\n",
    "        return (f\"{num} is Even number\")\n",
    "    else:\n",
    "         return (f\"{num} is Odd number\")"
   ]
  },
  {
   "cell_type": "code",
   "execution_count": 2,
   "id": "0121c900-f5a3-4744-be87-366ac5228783",
   "metadata": {},
   "outputs": [
    {
     "name": "stdin",
     "output_type": "stream",
     "text": [
      "Enter the number:  52452\n"
     ]
    },
    {
     "name": "stdout",
     "output_type": "stream",
     "text": [
      "52452 is Even number\n"
     ]
    }
   ],
   "source": [
    "n=int(input(\"Enter the number: \"))\n",
    "print(OddEven(n))"
   ]
  },
  {
   "cell_type": "code",
   "execution_count": 3,
   "id": "068446ae-b2da-462a-85d1-a7bb8fc552f0",
   "metadata": {},
   "outputs": [],
   "source": [
    "def Eligible(gender,age):\n",
    "    if(gender==\"Male\"):\n",
    "        if(age<=21):\n",
    "            return \"NOT ELIGIBLE\"\n",
    "        else:\n",
    "            return \"ELIGIBLE\"\n",
    "    elif(gender==\"Female\"):\n",
    "        if(age<=18):\n",
    "            return \"NOT ELIGIBLE\"\n",
    "        else:\n",
    "            return \"ELIGIBLE\"\n",
    "    else:\n",
    "        print(\"Please provide correct gender\")"
   ]
  },
  {
   "cell_type": "code",
   "execution_count": 4,
   "id": "7edcee75-3a67-47bd-b8ea-bf36bdec633a",
   "metadata": {},
   "outputs": [
    {
     "name": "stdin",
     "output_type": "stream",
     "text": [
      "Your Gender: Male\n",
      "Your Age:  20\n"
     ]
    },
    {
     "name": "stdout",
     "output_type": "stream",
     "text": [
      "NOT ELIGIBLE\n"
     ]
    }
   ],
   "source": [
    "g=input(\"Your Gender:\")\n",
    "a=int(input(\"Your Age: \"))\n",
    "print(Eligible(g,a))"
   ]
  },
  {
   "cell_type": "code",
   "execution_count": 6,
   "id": "58ba3237-447b-452b-a0ca-2dbf82da8733",
   "metadata": {},
   "outputs": [],
   "source": [
    "def percentage():\n",
    "    sub1=int(input(\"Subject1= \"))\n",
    "    sub2=int(input(\"Subject2= \"))\n",
    "    sub3=int(input(\"Subject3= \"))\n",
    "    sub4=int(input(\"Subject4= \"))\n",
    "    sub5=int(input(\"Subject5= \"))\n",
    "    total=sub1+sub2+sub3+sub4+sub5\n",
    "    percentage=total/5\n",
    "    return total,percentage\n",
    "    "
   ]
  },
  {
   "cell_type": "code",
   "execution_count": 7,
   "id": "b4d91f8a-fb0d-47b4-b3d3-d43f586d1c12",
   "metadata": {},
   "outputs": [
    {
     "name": "stdin",
     "output_type": "stream",
     "text": [
      "Subject1=  87\n",
      "Subject2=  95\n",
      "Subject3=  95\n",
      "Subject4=  93\n",
      "Subject5=  98\n"
     ]
    },
    {
     "name": "stdout",
     "output_type": "stream",
     "text": [
      "Total: 468\n",
      "Percentage: 93.6\n"
     ]
    }
   ],
   "source": [
    "total,percentage=percentage()\n",
    "print(f\"Total: {total}\")\n",
    "print(f\"Percentage: {percentage}\")"
   ]
  },
  {
   "cell_type": "code",
   "execution_count": 12,
   "id": "fbcb0483-2e85-497c-8700-8e883aec0c63",
   "metadata": {},
   "outputs": [],
   "source": [
    "def triangle():\n",
    "    Height=int(input(\"Height:\"))\n",
    "    Breadth=int(input(\"Breadth:\"))\n",
    "    print(\"Area formula: (Height*Breadth)/2\")\n",
    "    Area_formula=(Height*Breadth)/2\n",
    "    print(f\"Area formula: {Area_formula}\")\n",
    "    Height1=int(input(\"Height1:\"))\n",
    "    Height2=int(input(\"Height2:\"))\n",
    "    Breadth=int(input(\"Breadth:\"))\n",
    "    print(\"Perimeter formula: Height1+Height2+breadth\")\n",
    "    Perimeter_formula= Height1+Height2+Breadth\n",
    "    print(f\"Perimeter formula: {Perimeter_formula}\")\n",
    "    return Area_formula,Perimeter_formula"
   ]
  },
  {
   "cell_type": "code",
   "execution_count": 13,
   "id": "4dbc8426-e89a-4182-88cd-de396ae29012",
   "metadata": {},
   "outputs": [
    {
     "name": "stdin",
     "output_type": "stream",
     "text": [
      "Height: 32\n",
      "Breadth: 34\n"
     ]
    },
    {
     "name": "stdout",
     "output_type": "stream",
     "text": [
      "Area formula: (Height*Breadth)/2\n",
      "Area formula: 544.0\n"
     ]
    },
    {
     "name": "stdin",
     "output_type": "stream",
     "text": [
      "Height1: 2\n",
      "Height2: 4\n",
      "Breadth: 4\n"
     ]
    },
    {
     "name": "stdout",
     "output_type": "stream",
     "text": [
      "Perimeter formula: Height1+Height2+breadth\n",
      "Perimeter formula: 10\n"
     ]
    }
   ],
   "source": [
    "Areaformula,Perimeterformula=triangle()\n"
   ]
  },
  {
   "cell_type": "code",
   "execution_count": null,
   "id": "fb1e8e8c-1d2c-4b34-bcb9-af6db6247be0",
   "metadata": {},
   "outputs": [],
   "source": []
  }
 ],
 "metadata": {
  "kernelspec": {
   "display_name": "Python 3 (ipykernel)",
   "language": "python",
   "name": "python3"
  },
  "language_info": {
   "codemirror_mode": {
    "name": "ipython",
    "version": 3
   },
   "file_extension": ".py",
   "mimetype": "text/x-python",
   "name": "python",
   "nbconvert_exporter": "python",
   "pygments_lexer": "ipython3",
   "version": "3.13.5"
  }
 },
 "nbformat": 4,
 "nbformat_minor": 5
}
