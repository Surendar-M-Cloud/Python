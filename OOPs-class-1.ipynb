{
 "cells": [
  {
   "cell_type": "code",
   "execution_count": 1,
   "id": "9c725977-0a6c-4e63-8ca7-2c371dbe648a",
   "metadata": {},
   "outputs": [],
   "source": [
    "class SubFieldinAI:\n",
    "   def subfield(list):\n",
    "    print(\"Sub-Fields in AI are:\")\n",
    "    for i in list:\n",
    "        print(i)"
   ]
  },
  {
   "cell_type": "code",
   "execution_count": 2,
   "id": "1ce14fd3-89d2-426e-b3dd-74452b13f611",
   "metadata": {},
   "outputs": [
    {
     "name": "stdout",
     "output_type": "stream",
     "text": [
      "Sub-Fields in AI are:\n",
      "Machine Learning\n",
      "Neural Network\n",
      "vision\n",
      "Robotics\n",
      "Speech Processing\n",
      "Natural language Processing\n"
     ]
    }
   ],
   "source": [
    "lists=[\"Machine Learning\",\"Neural Network\",\"vision\",\"Robotics\",\"Speech Processing\",\"Natural language Processing\"]\n",
    "SubFieldinAI.subfield(lists)"
   ]
  },
  {
   "cell_type": "code",
   "execution_count": 6,
   "id": "1d170f4e-cf7f-46f5-96b8-7199c5994568",
   "metadata": {},
   "outputs": [],
   "source": [
    "class oddeven:\n",
    "   def OddEven(num):\n",
    "     if(num%2==0):\n",
    "         return (f\"{num} is Even number\")\n",
    "     else:\n",
    "          return (f\"{num} is Odd number\")"
   ]
  },
  {
   "cell_type": "code",
   "execution_count": 8,
   "id": "f19cb649-847a-435d-823d-c8ffe4e59cf5",
   "metadata": {},
   "outputs": [
    {
     "name": "stdin",
     "output_type": "stream",
     "text": [
      "Enter the number:  52452\n"
     ]
    },
    {
     "name": "stdout",
     "output_type": "stream",
     "text": [
      "52452 is Even number\n"
     ]
    }
   ],
   "source": [
    "n=int(input(\"Enter the number: \"))\n",
    "print(oddeven.OddEven(n))"
   ]
  },
  {
   "cell_type": "code",
   "execution_count": 10,
   "id": "db7e67e9-fbc7-412f-ab6c-a74718b1e236",
   "metadata": {},
   "outputs": [],
   "source": [
    "class eligibilityForMarriage:\n",
    "    def Eligible(gender,age):\n",
    "     if(gender==\"Male\"):\n",
    "        if(age<=21):\n",
    "            return \"NOT ELIGIBLE\"\n",
    "        else:\n",
    "            return \"ELIGIBLE\"\n",
    "     elif(gender==\"Female\"):\n",
    "        if(age<=18):\n",
    "            return \"NOT ELIGIBLE\"\n",
    "        else:\n",
    "            return \"ELIGIBLE\"\n",
    "     else:\n",
    "        print(\"Please provide correct gender\")"
   ]
  },
  {
   "cell_type": "code",
   "execution_count": 11,
   "id": "c30de85f-624e-4c9f-ac65-7c4b8e677ba4",
   "metadata": {},
   "outputs": [
    {
     "name": "stdin",
     "output_type": "stream",
     "text": [
      "Your Gender: Male\n",
      "Your Age:  20\n"
     ]
    },
    {
     "name": "stdout",
     "output_type": "stream",
     "text": [
      "NOT ELIGIBLE\n"
     ]
    }
   ],
   "source": [
    "g=input(\"Your Gender:\")\n",
    "a=int(input(\"Your Age: \"))\n",
    "print(eligibilityForMarriage.Eligible(g,a))"
   ]
  },
  {
   "cell_type": "code",
   "execution_count": 13,
   "id": "cce20b77-5ac1-4395-938e-a3683522b06f",
   "metadata": {},
   "outputs": [],
   "source": [
    "class FindPercent:\n",
    "  def percentage():\n",
    "    sub1=int(input(\"Subject1= \"))\n",
    "    sub2=int(input(\"Subject2= \"))\n",
    "    sub3=int(input(\"Subject3= \"))\n",
    "    sub4=int(input(\"Subject4= \"))\n",
    "    sub5=int(input(\"Subject5= \"))\n",
    "    total=sub1+sub2+sub3+sub4+sub5\n",
    "    percentage=total/5\n",
    "    return total,percentage\n"
   ]
  },
  {
   "cell_type": "code",
   "execution_count": 14,
   "id": "9411e7d9-9262-4b8e-ad77-8f6f4e760294",
   "metadata": {},
   "outputs": [
    {
     "name": "stdin",
     "output_type": "stream",
     "text": [
      "Subject1=  98\n",
      "Subject2=  87\n",
      "Subject3=  95\n",
      "Subject4=  95\n",
      "Subject5=  93\n"
     ]
    },
    {
     "name": "stdout",
     "output_type": "stream",
     "text": [
      "Total: 468\n",
      "Percentage: 93.6\n"
     ]
    }
   ],
   "source": [
    "total,percentage=FindPercent.percentage()\n",
    "print(f\"Total: {total}\")\n",
    "print(f\"Percentage: {percentage}\")\n"
   ]
  },
  {
   "cell_type": "code",
   "execution_count": 15,
   "id": "7f50af4a-31dd-4f3a-a343-431f93bf26b7",
   "metadata": {},
   "outputs": [],
   "source": [
    "class triangle:\n",
    " def triangle():\n",
    "    Height=int(input(\"Height:\"))\n",
    "    Breadth=int(input(\"Breadth:\"))\n",
    "    print(\"Area formula: (Height*Breadth)/2\")\n",
    "    Area_formula=(Height*Breadth)/2\n",
    "    print(f\"Area formula: {Area_formula}\")\n",
    "    Height1=int(input(\"Height1:\"))\n",
    "    Height2=int(input(\"Height2:\"))\n",
    "    Breadth=int(input(\"Breadth:\"))\n",
    "    print(\"Perimeter formula: Height1+Height2+breadth\")\n",
    "    Perimeter_formula= Height1+Height2+Breadth\n",
    "    print(f\"Perimeter formula: {Perimeter_formula}\")\n",
    "    return Area_formula,Perimeter_formula"
   ]
  },
  {
   "cell_type": "code",
   "execution_count": 16,
   "id": "fe049304-d8a0-4834-a1c5-df4edf98aeff",
   "metadata": {},
   "outputs": [
    {
     "name": "stdin",
     "output_type": "stream",
     "text": [
      "Height: 32\n",
      "Breadth: 34\n"
     ]
    },
    {
     "name": "stdout",
     "output_type": "stream",
     "text": [
      "Area formula: (Height*Breadth)/2\n",
      "Area formula: 544.0\n"
     ]
    },
    {
     "name": "stdin",
     "output_type": "stream",
     "text": [
      "Height1: 2\n",
      "Height2: 4\n",
      "Breadth: 4\n"
     ]
    },
    {
     "name": "stdout",
     "output_type": "stream",
     "text": [
      "Perimeter formula: Height1+Height2+breadth\n",
      "Perimeter formula: 10\n"
     ]
    }
   ],
   "source": [
    "Areaformula,Perimeterformula=triangle.triangle()"
   ]
  },
  {
   "cell_type": "code",
   "execution_count": null,
   "id": "ddf7e34f-06d0-4f4a-89a7-e5601967135c",
   "metadata": {},
   "outputs": [],
   "source": []
  }
 ],
 "metadata": {
  "kernelspec": {
   "display_name": "Python 3 (ipykernel)",
   "language": "python",
   "name": "python3"
  },
  "language_info": {
   "codemirror_mode": {
    "name": "ipython",
    "version": 3
   },
   "file_extension": ".py",
   "mimetype": "text/x-python",
   "name": "python",
   "nbconvert_exporter": "python",
   "pygments_lexer": "ipython3",
   "version": "3.13.5"
  }
 },
 "nbformat": 4,
 "nbformat_minor": 5
}
